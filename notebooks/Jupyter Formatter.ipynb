{
 "cells": [
  {
   "cell_type": "code",
   "execution_count": 1,
   "metadata": {},
   "outputs": [],
   "source": [
    "#r \"nuget:Deedle\""
   ]
  },
  {
   "cell_type": "code",
   "execution_count": 2,
   "metadata": {},
   "outputs": [
    {
     "data": {
      "text/html": [
       "Installing package Deedle.done!"
      ]
     },
     "metadata": {},
     "output_type": "display_data"
    }
   ],
   "source": [
    "open Deedle\n",
    "open System.IO\n",
    "open Microsoft.AspNetCore.Html"
   ]
  },
  {
   "cell_type": "code",
   "execution_count": 3,
   "metadata": {},
   "outputs": [],
   "source": [
    "let formatOptionalValue (v:OptionalValue<_>) =      \n",
    "  if v.HasValue then\n",
    "    v.Value.ToString()\n",
    "  else\n",
    "    \"N/A\"\n",
    "      \n",
    "let registerSeries (s:Series<_,_>) (writer:TextWriter) =\n",
    "    let headers = new ResizeArray<IHtmlContent> ()\n",
    "    headers.Add(th.innerHTML(i.innerHTML(\"Key\")))\n",
    "    headers.Add(th.innerHTML(i.innerHTML(\"Value\")))\n",
    "    let rows = ResizeArray<ResizeArray<IHtmlContent>>()\n",
    "    let take = 20\n",
    "    let keys = s.Keys |> Array.ofSeq\n",
    "    for i in 0 .. (Math.Min(take, int(s.KeyCount)) - 1) do\n",
    "        let cells = ResizeArray<IHtmlContent>()\n",
    "        cells.Add(td.innerHTML(box keys.[i]));\n",
    "        cells.Add(td.innerHTML(s.TryGetAt(i) |> formatOptionalValue |> box));\n",
    "        rows.Add(cells)\n",
    "    let t =\n",
    "        table.innerHTML(\n",
    "            [|\n",
    "              thead.innerHTML(headers)\n",
    "              tbody.innerHTML(rows.Select(fun r -> tr.innerHTML(r)))\n",
    "            |])\n",
    "    writer.Write(t)"
   ]
  },
  {
   "cell_type": "code",
   "execution_count": 4,
   "metadata": {},
   "outputs": [
    {
     "data": {
      "text/html": [
       "<null>"
      ]
     },
     "execution_count": 4,
     "metadata": {},
     "output_type": "execute_result"
    }
   ],
   "source": [
    "Formatter<Series<int,string>>.Register( (fun x writer -> registerSeries x writer), mimeType = \"text/html\")\n",
    "Formatter<Series<int,int>>.Register( (fun x writer -> registerSeries x writer), mimeType = \"text/html\")"
   ]
  },
  {
   "cell_type": "code",
   "execution_count": 5,
   "metadata": {},
   "outputs": [
    {
     "data": {
      "text/html": [
       "<table><thead><th><i>Key</i></th><th><i>Value</i></th></thead><tbody><tr><td>0</td><td>1</td></tr><tr><td>1</td><td>2</td></tr><tr><td>2</td><td>3</td></tr><tr><td>3</td><td>4</td></tr><tr><td>4</td><td>5</td></tr></tbody></table>"
      ]
     },
     "execution_count": 5,
     "metadata": {},
     "output_type": "execute_result"
    }
   ],
   "source": [
    "[1..5] |> Series.ofValues"
   ]
  },
  {
   "cell_type": "code",
   "execution_count": 6,
   "metadata": {},
   "outputs": [
    {
     "data": {
      "text/html": [
       "<table><thead><th><i>Key</i></th><th><i>Value</i></th></thead><tbody><tr><td>0</td><td>A</td></tr><tr><td>1</td><td>B</td></tr><tr><td>2</td><td>C</td></tr><tr><td>3</td><td>D</td></tr></tbody></table>"
      ]
     },
     "execution_count": 6,
     "metadata": {},
     "output_type": "execute_result"
    }
   ],
   "source": [
    "[\"A\"; \"B\"; \"C\"; \"D\"] |> Series.ofValues"
   ]
  }
 ],
 "metadata": {
  "kernelspec": {
   "display_name": ".NET (F#)",
   "language": "F#",
   "name": ".net-fsharp"
  },
  "language_info": {
   "file_extension": ".fs",
   "mimetype": "text/x-fsharp",
   "name": "C#",
   "pygments_lexer": "fsharp",
   "version": "4.5"
  }
 },
 "nbformat": 4,
 "nbformat_minor": 2
}
